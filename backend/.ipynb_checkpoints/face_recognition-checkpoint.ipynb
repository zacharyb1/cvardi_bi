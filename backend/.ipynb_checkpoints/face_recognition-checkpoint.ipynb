{
 "cells": [
  {
   "cell_type": "code",
   "execution_count": null,
   "id": "a0f38950-fbc0-454d-99b5-df5ddcfc45ea",
   "metadata": {},
   "outputs": [],
   "source": [
    "import os\n",
    "import cv2\n",
    "from insightface.app import FaceAnalysis\n",
    "\n",
    "# Initialize FaceAnalysis\n",
    "face_analysis = FaceAnalysis()\n",
    "\n",
    "# Load reference faces\n",
    "reference_faces = []\n",
    "reference_face_names = []\n",
    "\n",
    "faces_dir = \"faces\"\n",
    "for filename in os.listdir(faces_dir):\n",
    "    if filename.endswith(\".jpg\") or filename.endswith(\".png\"):\n",
    "        img = cv2.imread(os.path.join(faces_dir, filename))\n",
    "        reference_faces.append(img)\n",
    "        reference_face_names.append(os.path.splitext(filename)[0])\n",
    "\n",
    "# Load images to recognize faces\n",
    "images_dir = \"tests\"\n",
    "for filename in os.listdir(images_dir):\n",
    "    if filename.endswith(\".jpg\") or filename.endswith(\".png\"):\n",
    "        img = cv2.imread(os.path.join(images_dir, filename))\n",
    "        \n",
    "        # Detect faces\n",
    "        faces = face_analysis.get(img)\n",
    "        \n",
    "        if len(faces) == 0:\n",
    "            print(f\"No faces detected in {filename}\")\n",
    "            continue\n",
    "        \n",
    "        # Compare detected faces with reference faces\n",
    "        for face in faces:\n",
    "            for ref_face, ref_name in zip(reference_faces, reference_face_names):\n",
    "                # You can add more sophisticated face recognition logic here\n",
    "                # For example, using feature extraction and comparison\n",
    "                similarity_score = face_analysis.similarity(face, ref_face)\n",
    "                \n",
    "                if similarity_score > 0.6:  # Adjust the threshold as needed\n",
    "                    print(f\"Face recognized as {ref_name} in {filename} with similarity score {similarity_score}\")\n",
    "\n",
    "# Release resources\n",
    "face_analysis.close()"
   ]
  }
 ],
 "metadata": {
  "kernelspec": {
   "display_name": "Python 3 (ipykernel)",
   "language": "python",
   "name": "python3"
  },
  "language_info": {
   "codemirror_mode": {
    "name": "ipython",
    "version": 3
   },
   "file_extension": ".py",
   "mimetype": "text/x-python",
   "name": "python",
   "nbconvert_exporter": "python",
   "pygments_lexer": "ipython3",
   "version": "3.11.9"
  }
 },
 "nbformat": 4,
 "nbformat_minor": 5
}
