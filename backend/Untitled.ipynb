{
 "cells": [
  {
   "cell_type": "code",
   "execution_count": 4,
   "id": "64ef9652-d00f-4a80-9b95-b82b49fa8f28",
   "metadata": {},
   "outputs": [],
   "source": [
    "import base64\n",
    "from PIL import Image\n",
    "\n",
    "def image_to_base64(image_path):\n",
    "    with open(image_path, \"rb\") as img_file:\n",
    "        # Read the image file\n",
    "        img_bytes = img_file.read()\n",
    "        # Encode the image bytes to base64\n",
    "        encoded_string = base64.b64encode(img_bytes)\n",
    "        # Convert bytes to a string\n",
    "        base64_string = encoded_string.decode('utf-8')\n",
    "        return base64_string\n",
    "\n",
    "# Path to the image file\n",
    "image_path = \"./received_image.png\"  # Replace \"image.jpg\" with your image file's path\n",
    "\n",
    "try:\n",
    "    # Open the image\n",
    "    img = Image.open(image_path)\n",
    "    # Convert image to base64 string\n",
    "    base64_string = image_to_base64(image_path)\n",
    "    # print(\"Base64 String:\", base64_string)\n",
    "except FileNotFoundError:\n",
    "    print(\"File not found:\", image_path)\n",
    "except Exception as e:\n",
    "    print(\"An error occurred:\", e)\n"
   ]
  },
  {
   "cell_type": "code",
   "execution_count": 5,
   "id": "f49f685a-ba35-423e-9c0c-49368d19556b",
   "metadata": {},
   "outputs": [],
   "source": [
    "import requests\n",
    "\n",
    "url = \"https://inference.datacrunch.io/v1/images/gfpgan/generate\"\n",
    "headers = {\n",
    "    \"Content-Type\": \"application/json\",\n",
    "    \"Authorization\": f\"Bearer {KEY}\"\n",
    "}\n",
    "\n",
    "\n",
    "\n",
    "data = {\n",
    "    \"input_image\": base64_string\n",
    "}\n",
    "\n",
    "response = requests.post(url, headers=headers, json=data)"
   ]
  },
  {
   "cell_type": "code",
   "execution_count": 10,
   "id": "9ce6edb3-1d5a-40dd-a080-9559137642b2",
   "metadata": {},
   "outputs": [],
   "source": [
    "import base64\n",
    "from PIL import Image\n",
    "from io import BytesIO\n",
    "\n",
    "def base64_to_image(base64_string):\n",
    "    # Decode the base64 string to bytes\n",
    "    img_bytes = base64.b64decode(base64_string)\n",
    "    # Create a BytesIO object from the decoded bytes\n",
    "    img_buffer = BytesIO(img_bytes)\n",
    "    # Open the image using PIL\n",
    "    img = Image.open(img_buffer)\n",
    "    return img\n",
    "\n",
    "\n",
    "try:\n",
    "    # Decode base64 string to image\n",
    "    decoded_image = base64_to_image(response.json()[\"results\"][\"output_image\"])\n",
    "except Exception as e:\n",
    "    print(\"An error occurred:\", e)"
   ]
  },
  {
   "cell_type": "code",
   "execution_count": 12,
   "id": "ab997cd2-dc25-46f5-90db-e519b000f15c",
   "metadata": {},
   "outputs": [
    {
     "data": {
      "text/plain": [
       "(3840, 2160)"
      ]
     },
     "execution_count": 12,
     "metadata": {},
     "output_type": "execute_result"
    }
   ],
   "source": [
    "decoded_image.size"
   ]
  },
  {
   "cell_type": "code",
   "execution_count": null,
   "id": "503704a2-abef-46e7-b2c2-cf101981df5c",
   "metadata": {},
   "outputs": [],
   "source": []
  }
 ],
 "metadata": {
  "kernelspec": {
   "display_name": "Python 3 (ipykernel)",
   "language": "python",
   "name": "python3"
  },
  "language_info": {
   "codemirror_mode": {
    "name": "ipython",
    "version": 3
   },
   "file_extension": ".py",
   "mimetype": "text/x-python",
   "name": "python",
   "nbconvert_exporter": "python",
   "pygments_lexer": "ipython3",
   "version": "3.11.9"
  }
 },
 "nbformat": 4,
 "nbformat_minor": 5
}
